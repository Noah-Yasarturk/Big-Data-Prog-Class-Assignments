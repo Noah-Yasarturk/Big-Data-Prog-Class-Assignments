{
 "cells": [
  {
   "cell_type": "code",
   "execution_count": 1,
   "metadata": {},
   "outputs": [],
   "source": [
    "# Import the Spark Context\n",
    "sc = SparkContext.getOrCreate()"
   ]
  },
  {
   "cell_type": "code",
   "execution_count": 2,
   "metadata": {},
   "outputs": [
    {
     "name": "stderr",
     "output_type": "stream",
     "text": [
      "Using TensorFlow backend.\n"
     ]
    }
   ],
   "source": [
    "# Import Keras libraries for TensorFlow\n",
    "import tensorflow as tf\n",
    "import keras\n",
    "from keras.models import Sequential\n",
    "from keras.layers import Dense, Conv2D, Dropout, Flatten, MaxPooling2D\n",
    "from keras.optimizers import SGD\n",
    "import time"
   ]
  },
  {
   "cell_type": "code",
   "execution_count": 3,
   "metadata": {},
   "outputs": [],
   "source": [
    "# Increase available memory to store the numpy arrays\n",
    "import os\n",
    "memory = '10g'\n",
    "pyspark_submit_args = ' --driver-memory ' + memory + ' pyspark-shell'\n",
    "os.environ[\"PYSPARK_SUBMIT_ARGS\"] = pyspark_submit_args"
   ]
  },
  {
   "cell_type": "code",
   "execution_count": 4,
   "metadata": {},
   "outputs": [
    {
     "name": "stdout",
     "output_type": "stream",
     "text": [
      "Getting training image labels...\n",
      "Getting testing image labels...\n",
      "Converting labels to numpy arrays...\n",
      "Extracting image data...\n",
      "Data ready.\n"
     ]
    }
   ],
   "source": [
    "# Create numpy arrays from MNIST csvs\n",
    "import csv\n",
    "import numpy as np\n",
    "path = '/home/nyasarturk1/Downloads/'\n",
    "train_imgs_p = (path + 'mnist_train.csv')\n",
    "test_imgs_p = (path + 'mnist_test.csv')\n",
    "# Test and training image labels\n",
    "trn_lbls = []\n",
    "tst_lbls = []\n",
    "\n",
    "print('Getting training image labels...')\n",
    "with open(train_imgs_p, 'r', newline='') as csv_file1:\n",
    "    csv_reader1 = csv.reader(csv_file1, delimiter=',')\n",
    "    for row in csv_reader1:\n",
    "        trn_lbls.append(row[0])\n",
    "csv_file1.close()\n",
    "print('Getting testing image labels...')\n",
    "with open(test_imgs_p, 'r', newline='') as csv_file2:\n",
    "    csv_reader2 = csv.reader(csv_file2, delimiter=',')\n",
    "    for row in csv_reader2:\n",
    "        tst_lbls.append(row[0])\n",
    "csv_file2.close()\n",
    "\n",
    "print('Converting labels to numpy arrays...')\n",
    "trn_lbls = np.array(trn_lbls)\n",
    "tst_lbls = np.array(tst_lbls)\n",
    "\n",
    "# Download image csvs and convert to numpy arrays for training and testing\n",
    "print('Extracting image data...')\n",
    "with open(train_imgs_p) as f:\n",
    "    ncols = len(f.readline().split(','))\n",
    "train_imgs = np.loadtxt(train_imgs_p,delimiter=',', usecols=range(1,ncols))\n",
    "test_imgs = np.loadtxt(test_imgs_p,delimiter=',', usecols=range(1,ncols))\n",
    "\n",
    "print('Data ready.')"
   ]
  },
  {
   "cell_type": "code",
   "execution_count": 5,
   "metadata": {},
   "outputs": [
    {
     "name": "stdout",
     "output_type": "stream",
     "text": [
      "Normalizing numpy arrays...\n"
     ]
    }
   ],
   "source": [
    "# Reshape arrays to 4-d inputs\n",
    "train_imgs = train_imgs.reshape(train_imgs.shape[0], 28, 28, 1)\n",
    "test_imgs = test_imgs.reshape(test_imgs.shape[0],28,28,1)\n",
    "# Define input shape\n",
    "input_shape = (28,28,1)\n",
    "\n",
    "#Attempt normalization\n",
    "print('Normalizing numpy arrays...')\n",
    "train_imgs = train_imgs.astype('float32')\n",
    "test_imgs = test_imgs.astype('float32')\n",
    "train_imgs /=255\n",
    "test_imgs /= 255\n",
    "# Normalize testing set by training set mean & standard deviation\n",
    "#and add small floating point constant to prevent division by 0.\n",
    "x_mean = train_imgs.mean(axis=0)\n",
    "train_imgs -= x_mean\n",
    "x_std = train_imgs.std(axis=0)\n",
    "train_imgs /= x_std + 1e-8\n",
    "test_imgs -= x_mean\n",
    "test_imgs /= x_std + 1e-8"
   ]
  },
  {
   "cell_type": "code",
   "execution_count": 6,
   "metadata": {},
   "outputs": [
    {
     "name": "stdout",
     "output_type": "stream",
     "text": [
      "WARNING:tensorflow:From /usr/local/lib/python3.5/dist-packages/tensorflow/python/framework/op_def_library.py:263: colocate_with (from tensorflow.python.framework.ops) is deprecated and will be removed in a future version.\n",
      "Instructions for updating:\n",
      "Colocations handled automatically by placer.\n",
      "WARNING:tensorflow:From /usr/local/lib/python3.5/dist-packages/keras/backend/tensorflow_backend.py:3445: calling dropout (from tensorflow.python.ops.nn_ops) with keep_prob is deprecated and will be removed in a future version.\n",
      "Instructions for updating:\n",
      "Please use `rate` instead of `keep_prob`. Rate should be set to `rate = 1 - keep_prob`.\n",
      "WARNING:tensorflow:From /usr/local/lib/python3.5/dist-packages/tensorflow/python/ops/math_ops.py:3066: to_int32 (from tensorflow.python.ops.math_ops) is deprecated and will be removed in a future version.\n",
      "Instructions for updating:\n",
      "Use tf.cast instead.\n",
      "Epoch 1/10\n",
      "60000/60000 [==============================] - 151s 3ms/step - loss: 0.2071 - acc: 0.9424\n",
      "Epoch 2/10\n",
      "60000/60000 [==============================] - 150s 2ms/step - loss: 0.1088 - acc: 0.9708\n",
      "Epoch 3/10\n",
      "60000/60000 [==============================] - 151s 3ms/step - loss: 0.0774 - acc: 0.9785\n",
      "Epoch 4/10\n",
      "60000/60000 [==============================] - 129s 2ms/step - loss: 0.0671 - acc: 0.9814\n",
      "Epoch 5/10\n",
      "60000/60000 [==============================] - 140s 2ms/step - loss: 0.0555 - acc: 0.9854\n",
      "Epoch 6/10\n",
      "60000/60000 [==============================] - 152s 3ms/step - loss: 0.0516 - acc: 0.9859\n",
      "Epoch 7/10\n",
      "60000/60000 [==============================] - 153s 3ms/step - loss: 0.0460 - acc: 0.9877\n",
      "Epoch 8/10\n",
      "60000/60000 [==============================] - 152s 3ms/step - loss: 0.0394 - acc: 0.9897\n",
      "Epoch 9/10\n",
      "60000/60000 [==============================] - 151s 3ms/step - loss: 0.0381 - acc: 0.9902\n",
      "Epoch 10/10\n",
      "60000/60000 [==============================] - 153s 3ms/step - loss: 0.0425 - acc: 0.9897\n",
      "Traditional Keras NN training time --- 1482.109206199646 seconds ---\n"
     ]
    },
    {
     "data": {
      "text/plain": [
       "\"\\nwe want an input layer of 28x28 neurons (pixel dimensions), then a Dense layer of 300\\n#neurons, then a Dense layer of 10 neurons to be the output layer.\\nmodel = keras.Sequential([\\n    # Input Layer\\n    keras.layers.InputLayer(\\n        input_shape=((28*28),)),\\n    \\n    # Hidden Layer\\n    keras.layers.Dense(300),\\n    \\n    #Final layer predicts\\n    keras.layers.Dense(10, activation=tf.nn.softmax)\\n    ])\\n\\nsgd = keras.optimizers.SGD(lr=0.0001,\\n                           decay=1e-6,\\n                           momentum=0.9,\\n                           nesterov=True)\\n\\nmodel.compile(optimizer=sgd,\\n              loss='sparse_categorical_crossentropy',\\n              metrics=['accuracy']\\n             )\\n\\n\""
      ]
     },
     "execution_count": 6,
     "metadata": {},
     "output_type": "execute_result"
    }
   ],
   "source": [
    "# Define and compile a Keras model; this model obtained from towardsdatascience.com\n",
    "model = Sequential()\n",
    "model.add(Conv2D(28,kernel_size=(3,3),input_shape=input_shape)) #Initial input layer is equal to pixel dimensions\n",
    "model.add(MaxPooling2D(pool_size=(2,2)))\n",
    "model.add(Flatten())  # Changes dimensional structure into single dimension\n",
    "model.add(Dense(128, activation=tf.nn.relu)) #Hidden layer\n",
    "model.add(Dropout(0.2))\n",
    "model.add(Dense(10,activation=tf.nn.softmax)) #Final layer predicts & tf needs to be the size of the total classes\n",
    "\n",
    "model.compile(optimizer='adam',\n",
    "             loss='sparse_categorical_crossentropy',\n",
    "              metrics=['accuracy'])\n",
    "start_time = time.time()\n",
    "# Execute traditional TensorFlow training on local system\n",
    "model.fit(x=train_imgs,y=trn_lbls, epochs=10)\n",
    "print(\"Traditional Keras NN training time --- %s seconds ---\"%(time.time()-start_time))\n"
   ]
  },
  {
   "cell_type": "code",
   "execution_count": 7,
   "metadata": {},
   "outputs": [
    {
     "name": "stdout",
     "output_type": "stream",
     "text": [
      "WARNING\n"
     ]
    }
   ],
   "source": [
    "# Create RDDs from numpy arrays\n",
    "from elephas.utils.rdd_utils import to_simple_rdd\n",
    "rdd = to_simple_rdd(sc, train_imgs, trn_lbls)"
   ]
  },
  {
   "cell_type": "code",
   "execution_count": 8,
   "metadata": {
    "scrolled": true
   },
   "outputs": [
    {
     "name": "stdout",
     "output_type": "stream",
     "text": [
      " * Serving Flask app \"elephas.parameter.server\" (lazy loading)\n",
      " * Environment: production\n",
      "   WARNING: Do not use the development server in a production environment.\n",
      "   Use a production WSGI server instead.\n",
      " * Debug mode: off\n"
     ]
    },
    {
     "name": "stderr",
     "output_type": "stream",
     "text": [
      " * Running on http://0.0.0.0:4000/ (Press CTRL+C to quit)\n",
      "127.0.0.1 - - [04/Mar/2019 02:14:17] \"\u001b[37mGET /parameters HTTP/1.1\u001b[0m\" 200 -\n",
      "127.0.0.1 - - [04/Mar/2019 02:14:19] \"\u001b[37mGET /parameters HTTP/1.1\u001b[0m\" 200 -\n",
      "127.0.0.1 - - [04/Mar/2019 02:16:20] \"\u001b[37mPOST /update HTTP/1.1\u001b[0m\" 200 -\n",
      "127.0.0.1 - - [04/Mar/2019 02:16:20] \"\u001b[37mGET /parameters HTTP/1.1\u001b[0m\" 200 -\n",
      "127.0.0.1 - - [04/Mar/2019 02:16:23] \"\u001b[37mPOST /update HTTP/1.1\u001b[0m\" 200 -\n",
      "127.0.0.1 - - [04/Mar/2019 02:16:23] \"\u001b[37mGET /parameters HTTP/1.1\u001b[0m\" 200 -\n",
      "127.0.0.1 - - [04/Mar/2019 02:18:20] \"\u001b[37mPOST /update HTTP/1.1\u001b[0m\" 200 -\n",
      "127.0.0.1 - - [04/Mar/2019 02:18:20] \"\u001b[37mGET /parameters HTTP/1.1\u001b[0m\" 200 -\n",
      "127.0.0.1 - - [04/Mar/2019 02:18:24] \"\u001b[37mPOST /update HTTP/1.1\u001b[0m\" 200 -\n",
      "127.0.0.1 - - [04/Mar/2019 02:18:24] \"\u001b[37mGET /parameters HTTP/1.1\u001b[0m\" 200 -\n",
      "127.0.0.1 - - [04/Mar/2019 02:20:20] \"\u001b[37mPOST /update HTTP/1.1\u001b[0m\" 200 -\n",
      "127.0.0.1 - - [04/Mar/2019 02:20:20] \"\u001b[37mGET /parameters HTTP/1.1\u001b[0m\" 200 -\n",
      "127.0.0.1 - - [04/Mar/2019 02:20:26] \"\u001b[37mPOST /update HTTP/1.1\u001b[0m\" 200 -\n",
      "127.0.0.1 - - [04/Mar/2019 02:20:26] \"\u001b[37mGET /parameters HTTP/1.1\u001b[0m\" 200 -\n",
      "127.0.0.1 - - [04/Mar/2019 02:22:21] \"\u001b[37mPOST /update HTTP/1.1\u001b[0m\" 200 -\n",
      "127.0.0.1 - - [04/Mar/2019 02:22:21] \"\u001b[37mGET /parameters HTTP/1.1\u001b[0m\" 200 -\n",
      "127.0.0.1 - - [04/Mar/2019 02:22:27] \"\u001b[37mPOST /update HTTP/1.1\u001b[0m\" 200 -\n",
      "127.0.0.1 - - [04/Mar/2019 02:22:27] \"\u001b[37mGET /parameters HTTP/1.1\u001b[0m\" 200 -\n",
      "127.0.0.1 - - [04/Mar/2019 02:24:21] \"\u001b[37mPOST /update HTTP/1.1\u001b[0m\" 200 -\n",
      "127.0.0.1 - - [04/Mar/2019 02:24:21] \"\u001b[37mGET /parameters HTTP/1.1\u001b[0m\" 200 -\n",
      "127.0.0.1 - - [04/Mar/2019 02:24:27] \"\u001b[37mPOST /update HTTP/1.1\u001b[0m\" 200 -\n",
      "127.0.0.1 - - [04/Mar/2019 02:24:27] \"\u001b[37mGET /parameters HTTP/1.1\u001b[0m\" 200 -\n",
      "127.0.0.1 - - [04/Mar/2019 02:26:22] \"\u001b[37mPOST /update HTTP/1.1\u001b[0m\" 200 -\n",
      "127.0.0.1 - - [04/Mar/2019 02:26:22] \"\u001b[37mGET /parameters HTTP/1.1\u001b[0m\" 200 -\n",
      "127.0.0.1 - - [04/Mar/2019 02:26:29] \"\u001b[37mPOST /update HTTP/1.1\u001b[0m\" 200 -\n",
      "127.0.0.1 - - [04/Mar/2019 02:26:29] \"\u001b[37mGET /parameters HTTP/1.1\u001b[0m\" 200 -\n",
      "127.0.0.1 - - [04/Mar/2019 02:28:18] \"\u001b[37mPOST /update HTTP/1.1\u001b[0m\" 200 -\n",
      "127.0.0.1 - - [04/Mar/2019 02:28:18] \"\u001b[37mGET /parameters HTTP/1.1\u001b[0m\" 200 -\n",
      "127.0.0.1 - - [04/Mar/2019 02:28:27] \"\u001b[37mPOST /update HTTP/1.1\u001b[0m\" 200 -\n",
      "127.0.0.1 - - [04/Mar/2019 02:28:27] \"\u001b[37mGET /parameters HTTP/1.1\u001b[0m\" 200 -\n",
      "127.0.0.1 - - [04/Mar/2019 02:30:16] \"\u001b[37mPOST /update HTTP/1.1\u001b[0m\" 200 -\n",
      "127.0.0.1 - - [04/Mar/2019 02:30:16] \"\u001b[37mGET /parameters HTTP/1.1\u001b[0m\" 200 -\n",
      "127.0.0.1 - - [04/Mar/2019 02:30:27] \"\u001b[37mPOST /update HTTP/1.1\u001b[0m\" 200 -\n",
      "127.0.0.1 - - [04/Mar/2019 02:30:27] \"\u001b[37mGET /parameters HTTP/1.1\u001b[0m\" 200 -\n",
      "127.0.0.1 - - [04/Mar/2019 02:32:15] \"\u001b[37mPOST /update HTTP/1.1\u001b[0m\" 200 -\n",
      "127.0.0.1 - - [04/Mar/2019 02:32:16] \"\u001b[37mGET /parameters HTTP/1.1\u001b[0m\" 200 -\n",
      "127.0.0.1 - - [04/Mar/2019 02:32:25] \"\u001b[37mPOST /update HTTP/1.1\u001b[0m\" 200 -\n",
      "127.0.0.1 - - [04/Mar/2019 02:32:25] \"\u001b[37mGET /parameters HTTP/1.1\u001b[0m\" 200 -\n",
      "127.0.0.1 - - [04/Mar/2019 02:34:12] \"\u001b[37mPOST /update HTTP/1.1\u001b[0m\" 200 -\n",
      "127.0.0.1 - - [04/Mar/2019 02:34:17] \"\u001b[37mPOST /update HTTP/1.1\u001b[0m\" 200 -\n",
      "127.0.0.1 - - [04/Mar/2019 02:34:17] \"\u001b[37mGET /parameters HTTP/1.1\u001b[0m\" 200 -\n"
     ]
    },
    {
     "name": "stdout",
     "output_type": "stream",
     "text": [
      "Spark NN training time --- 1209.5768551826477 seconds ---\n"
     ]
    }
   ],
   "source": [
    "# Initialize SparkModel by passing in our Keras model\n",
    "from elephas.spark_model import SparkModel\n",
    "start_time = time.time()\n",
    "spark_model = SparkModel(model, frequency='epoch', mode='asynchronous')\n",
    "# Execute spark TensorFlow on dataset using parallel clusters\n",
    "spark_model.fit(rdd, epochs=10, verbose=1, validation_split=0.1)\n",
    "print(\"Spark NN training time --- %s seconds ---\"%(time.time()-start_time))"
   ]
  },
  {
   "cell_type": "code",
   "execution_count": 9,
   "metadata": {},
   "outputs": [
    {
     "name": "stdout",
     "output_type": "stream",
     "text": [
      "10000/10000 [==============================] - 6s 610us/step\n",
      "Test accuracy: 0.9819\n"
     ]
    }
   ],
   "source": [
    "# Evaluate Spark model by evaluating the underlying model\n",
    "score = spark_model.master_network.evaluate(test_imgs, tst_lbls, verbose=1)\n",
    "print('Test accuracy:', score[1])"
   ]
  },
  {
   "cell_type": "code",
   "execution_count": 10,
   "metadata": {},
   "outputs": [],
   "source": [
    "# Make predictions and output to csv\n",
    "predictions = model.predict(test_imgs)\n",
    "hi_con = []\n",
    "hi_val = []\n",
    "for p in range(len(predictions)):\n",
    "    hi_con.append(np.argmax(predictions[p]))\n",
    "    hi_val.append(max(predictions[p]))\n",
    "csv_path = (path + 'predictions.csv')\n",
    "with open(csv_path, 'w', newline='') as csv_file:\n",
    "    csv_writer = csv.writer(csv_file, delimiter = ',')\n",
    "    #Write top row\n",
    "    csv_writer.writerow(['Test image','Predicted Numeral','Correct?','Confidence'])\n",
    "    for p in range(len(predictions)):\n",
    "        # Get image number\n",
    "        img_num = p\n",
    "        # Get predicted digit\n",
    "        pred_num = hi_con[p]\n",
    "        # Check if correct\n",
    "        if (int(tst_lbls[p])==int(pred_num)):\n",
    "            cor = \"Yes!\"\n",
    "        else:\n",
    "            cor = \"No!\"\n",
    "        val = hi_val[p]\n",
    "        csv_writer.writerow([img_num,pred_num,cor,val])\n",
    "csv_file.close()"
   ]
  },
  {
   "cell_type": "code",
   "execution_count": 48,
   "metadata": {},
   "outputs": [],
   "source": [
    "# Visualize results\n",
    "import matplotlib.pyplot as plt\n",
    "\n",
    "\n",
    "with open(path+\"predictions.csv\", 'r', newline='') as csv_file3:\n",
    "    csv_reader3 = csv.reader(csv_file3, delimiter=',')\n",
    "    ns= [0,0,0,0,0,0,0,0,0,0]\n",
    "    nws= [0,0,0,0,0,0,0,0,0,0] \n",
    "    cs= [0,0,0,0,0,0,0,0,0,0]\n",
    "    acs= [0,0,0,0,0,0,0,0,0,0]\n",
    "    tpr = [0,0,0,0,0,0,0,0,0,0]  # [number of instances correctly predicted by numeral, \n",
    "    #number of incorrect predictions by numeral, total confidence level by numeral, average confidence \n",
    "    #level by numeral, true positive rate]\n",
    "    for row in csv_reader3:\n",
    "        # If prediction is correct, add total confidence value by numeral and number of correct predictions\n",
    "        if (row[2]==\"Yes!\"):\n",
    "            ind = int(row[1])\n",
    "            ns[ind] = ns[ind] + 1\n",
    "            cs[ind] = cs[ind] + float(row[3])\n",
    "        # If the prediction is incorrect, inrease num of incorrect prediction by numeral\n",
    "        if((row[2]!=\"Yes!\") and (row[2]!=\"Correct?\")):\n",
    "            ind = int(row[1])\n",
    "            nws[ind] = nws[ind] + 1\n",
    "    # Calculate average confidence value and true positive rate\n",
    "    for i in range(10):\n",
    "        acs[i] = cs[i]/ns[i]\n",
    "        tpr[i] = ns[i]/(ns[i]+nws[i])\n",
    "csv_file3.close()\n",
    "\n",
    "# Plot both as bar graphs\n",
    "label = ['0','1','2','3','4','5','6','7','8','9']\n",
    "def plot_avg_conf():\n",
    "    index = np.arange(len(label))\n",
    "    plt.bar(index, acs)\n",
    "    plt.xlabel('Numeral', fontsize=10)\n",
    "    plt.ylabel('Average Confidence Rate', fontsize=10)\n",
    "    plt.xticks(index, label, fontsize=10)\n",
    "    plt.title('Average Confidence Rate By Numeral')\n",
    "    plt.show()\n",
    "    \n",
    "def plot_tpr():\n",
    "    index = np.arange(len(label))\n",
    "    plt.bar(index, tpr)\n",
    "    plt.xlabel('Numeral', fontsize=10)\n",
    "    plt.ylabel('True Positive Rate', fontsize=10)\n",
    "    plt.xticks(index, label, fontsize=10)\n",
    "    plt.title('True Positive Rate By Numeral')\n",
    "    plt.show()\n",
    "    \n",
    "def mislabeled():\n",
    "    index = np.arange(len(label))\n",
    "    plt.bar(index, nws)\n",
    "    plt.xlabel('Numeral', fontsize=10)\n",
    "    plt.ylabel('Number Missed', fontsize=10)\n",
    "    plt.xticks(index, label, fontsize=10)\n",
    "    plt.title('Total Mislabeled Digits by Numeral')\n",
    "    plt.show()\n"
   ]
  },
  {
   "cell_type": "code",
   "execution_count": 49,
   "metadata": {},
   "outputs": [
    {
     "data": {
      "image/png": "[encoded data removed]",
      "text/plain": [
       "<Figure size 432x288 with 1 Axes>"
      ]
     },
     "metadata": {
      "needs_background": "light"
     },
     "output_type": "display_data"
    }
   ],
   "source": [
    "plot_avg_conf()"
   ]
  },
  {
   "cell_type": "code",
   "execution_count": 50,
   "metadata": {},
   "outputs": [
    {
     "data": {
      "image/png": "[encoded data removed]",
      "text/plain": [
       "<Figure size 432x288 with 1 Axes>"
      ]
     },
     "metadata": {
      "needs_background": "light"
     },
     "output_type": "display_data"
    }
   ],
   "source": [
    "plot_tpr()"
   ]
  },
  {
   "cell_type": "code",
   "execution_count": 52,
   "metadata": {},
   "outputs": [
    {
     "data": {
      "image/png": "[encoded data removed]",
      "text/plain": [
       "<Figure size 432x288 with 1 Axes>"
      ]
     },
     "metadata": {
      "needs_background": "light"
     },
     "output_type": "display_data"
    }
   ],
   "source": [
    "mislabeled()"
   ]
  },
  {
   "cell_type": "code",
   "execution_count": 53,
   "metadata": {},
   "outputs": [
    {
     "data": {
      "text/plain": [
       "'\\nWrite Up:\\n\\n---What Does the Code Do?---\\nGiven by both the MNIST Neural Network and MNIST Random Forest pdfs\\' comments.\\n\\n---What Are the Goals of the Program?---\\nBoth the former tutorial Random Forest program and current Neural Network program\\naim to train a model to classify handwritten digits (taken in csv format in my case,\\nbut originally given in .gz files; conversion would be possible, but csvs are far easier\\nto start out with) as 0-9.\\n\\n---What Was Your Expected Result?---\\nI expected both in the Random Forest and the Neural Network to effectively classify \\nnumerals at a rate of over 90%. \\n\\n---What Issues Did You Face?---\\nFirstly, getting the images in a format easily manipulatable was problematic, but knowing \\na csv would make things simplest for me in tandum with python\\'s csv module meant a simple\\n\"MNIST as csv\" Google search resolved this issue.\\n\\nNormalization was then an issue, as for the NN to work, we had to normalize the testing set with\\nthe training set\\'s standard deviation and mean rather than its own. We also divided by 255\\nto resolve the pixel range and added a small floating point constant to prevent division by 0.\\n\\nMy Ubuntu system originally could not hold all the numpy arrays in memory with its small 5gb \\nallocation, so I had to partition additional memory for that.\\n\\nMy original Neural Network topology (given by Out[6]) had a classfication rate of around 15%,\\nso I had to research the best possible NN topology for this classic dataset.\\n\\nThe test error rate calculation for the Random Forest given by the tutorial\\'s code was incorrect,\\nso I had to correct that by referring to the documentation.\\n\\n---Analysis of the Model I Used---\\nThe Random Forest Model I used had a test set classification rate of 90.4%.\\nThe Neural Network I originally used with topology:\\n1. Input Layer of 28*28\\n2. Hidden Dense Layer of 300 neurons\\n3. Output Dense Layer of 10 neurons\\nhad a classification rate of about 15%; by using the NN from towardsdatascience.com,\\nI was able to achieve a classification rate of 98.19% with the Spark TensorFlow and \\nsimilar classification rate for the traditional local TensorFlow, however the Spark\\nparallelized Keras TensorFlow processed about 5 minutes faster. I\\'d imagine that as \\nthe number of epochs increases, the training time difference between parallelized RDDs\\nand local numpy arrays will become exponentially larger.\\nWhile the Random Forest training and evaluation was slightly faster, it was less accurate.\\n\\n---Analysis of the Predictions---\\nGiven by the above graphs and similarly by Analysis of the Model I Used\\nsection.\\n\\n---How Could This Be Improved---\\nI could have deskewed the digits in order to further increase the classification rate.\\n\\n'"
      ]
     },
     "execution_count": 53,
     "metadata": {},
     "output_type": "execute_result"
    }
   ],
   "source": [
    "'''\n",
    "Write Up:\n",
    "\n",
    "---What Does the Code Do?---\n",
    "Given by both the MNIST Neural Network and MNIST Random Forest pdfs' comments.\n",
    "\n",
    "---What Are the Goals of the Program?---\n",
    "Both the former tutorial Random Forest program and current Neural Network program\n",
    "aim to train a model to classify handwritten digits (taken in csv format in my case,\n",
    "but originally given in .gz files; conversion would be possible, but csvs are far easier\n",
    "to start out with) as 0-9.\n",
    "\n",
    "---What Was Your Expected Result?---\n",
    "I expected both in the Random Forest and the Neural Network to effectively classify \n",
    "numerals at a rate of over 90%. \n",
    "\n",
    "---What Issues Did You Face?---\n",
    "Firstly, getting the images in a format easily manipulatable was problematic, but knowing \n",
    "a csv would make things simplest for me in tandum with python's csv module meant a simple\n",
    "\"MNIST as csv\" Google search resolved this issue.\n",
    "\n",
    "Normalization was then an issue, as for the NN to work, we had to normalize the testing set with\n",
    "the training set's standard deviation and mean rather than its own. We also divided by 255\n",
    "to resolve the pixel range and added a small floating point constant to prevent division by 0.\n",
    "\n",
    "My Ubuntu system originally could not hold all the numpy arrays in memory with its small 5gb \n",
    "allocation, so I had to partition additional memory for that.\n",
    "\n",
    "My original Neural Network topology (given by Out[6]) had a classfication rate of around 15%,\n",
    "so I had to research the best possible NN topology for this classic dataset.\n",
    "\n",
    "The test error rate calculation for the Random Forest given by the tutorial's code was incorrect,\n",
    "so I had to correct that by referring to the documentation.\n",
    "\n",
    "---Analysis of the Model I Used---\n",
    "The Random Forest Model I used had a test set classification rate of 90.4%.\n",
    "The Neural Network I originally used with topology:\n",
    "1. Input Layer of 28*28\n",
    "2. Hidden Dense Layer of 300 neurons\n",
    "3. Output Dense Layer of 10 neurons\n",
    "had a classification rate of about 15%; by using the NN from towardsdatascience.com,\n",
    "I was able to achieve a classification rate of 98.19% with the Spark TensorFlow and \n",
    "similar classification rate for the traditional local TensorFlow, however the Spark\n",
    "parallelized Keras TensorFlow processed about 5 minutes faster. I'd imagine that as \n",
    "the number of epochs increases, the training time difference between parallelized RDDs\n",
    "and local numpy arrays will become exponentially larger.\n",
    "While the Random Forest training and evaluation was slightly faster, it was less accurate.\n",
    "\n",
    "---Analysis of the Predictions---\n",
    "Given by the above graphs and similarly by Analysis of the Model I Used\n",
    "section.\n",
    "\n",
    "---How Could This Be Improved---\n",
    "I could have deskewed the digits in order to further increase the classification rate.\n",
    "\n",
    "'''"
   ]
  },
  {
   "cell_type": "code",
   "execution_count": null,
   "metadata": {},
   "outputs": [],
   "source": []
  }
 ],
 "metadata": {
  "kernelspec": {
   "display_name": "Python 3",
   "language": "python",
   "name": "python3"
  },
  "language_info": {
   "codemirror_mode": {
    "name": "ipython",
    "version": 3
   },
   "file_extension": ".py",
   "mimetype": "text/x-python",
   "name": "python",
   "nbconvert_exporter": "python",
   "pygments_lexer": "ipython3",
   "version": "3.5.2"
  }
 },
 "nbformat": 4,
 "nbformat_minor": 2
}
